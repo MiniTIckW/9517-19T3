{
 "cells": [
  {
   "cell_type": "code",
   "execution_count": 1,
   "metadata": {},
   "outputs": [],
   "source": [
    "from sklearn import metrics\n",
    "from sklearn.datasets import load_digits\n",
    "from sklearn.model_selection import train_test_split\n",
    "from sklearn.neighbors import KNeighborsClassifier \n",
    "from sklearn.linear_model import SGDClassifier \n",
    "from sklearn.tree import DecisionTreeClassifier\n",
    "\n",
    "from sklearn.metrics import confusion_matrix"
   ]
  },
  {
   "cell_type": "code",
   "execution_count": 2,
   "metadata": {},
   "outputs": [],
   "source": [
    "digits = load_digits()\n",
    "t = 0.25"
   ]
  },
  {
   "cell_type": "code",
   "execution_count": 3,
   "metadata": {},
   "outputs": [],
   "source": [
    "X = digits.data\n",
    "Y = digits.target\n",
    "X_train, X_test, Y_train, Y_test = train_test_split(X, Y, test_size = t, stratify=Y,random_state=0)"
   ]
  },
  {
   "cell_type": "code",
   "execution_count": 4,
   "metadata": {},
   "outputs": [],
   "source": [
    "KNN = KNeighborsClassifier(n_neighbors=5)\n",
    "KNN.fit(X_train,Y_train)\n",
    "KNN_predict = KNN.predict(X_test)\n",
    "KNN_acc = metrics.accuracy_score(Y_test, KNN_predict)\n",
    "KNN_rc = metrics.recall_score(Y_test, KNN_predict,average='macro')"
   ]
  },
  {
   "cell_type": "code",
   "execution_count": 5,
   "metadata": {},
   "outputs": [],
   "source": [
    "SGD = SGDClassifier()\n",
    "SGD.fit(X_train,Y_train)\n",
    "SGD_predict = SGD.predict(X_test)\n",
    "SGD_acc = metrics.accuracy_score(Y_test, SGD_predict)\n",
    "SGD_rc = metrics.recall_score(Y_test, SGD_predict,average='macro')"
   ]
  },
  {
   "cell_type": "code",
   "execution_count": 6,
   "metadata": {},
   "outputs": [],
   "source": [
    "DT = DecisionTreeClassifier()\n",
    "DT.fit(X_train,Y_train)\n",
    "DT_predict = DT.predict(X_test)\n",
    "DT_acc = metrics.accuracy_score(Y_test, DT_predict)\n",
    "DT_rc = metrics.recall_score(Y_test, DT_predict,average='macro')"
   ]
  },
  {
   "cell_type": "code",
   "execution_count": 7,
   "metadata": {},
   "outputs": [
    {
     "name": "stdout",
     "output_type": "stream",
     "text": [
      "COMP9517 Week5 Lab - z5135560\n",
      "Test Size = 0.25\n",
      "KNN Accuracy: 0.980       Recall: 0.980\n",
      "SGD Accuracy: 0.956       Recall: 0.955\n",
      "DT Accuracy: 0.856        Recall: 0.856\n",
      "KNN Confusion Matrix\n",
      "[[45  0  0  0  0  0  0  0  0  0]\n",
      " [ 0 46  0  0  0  0  0  0  0  0]\n",
      " [ 0  1 43  0  0  0  0  0  0  0]\n",
      " [ 0  0  0 44  0  0  0  1  1  0]\n",
      " [ 0  0  0  0 44  0  0  0  1  0]\n",
      " [ 0  0  0  0  0 46  0  0  0  0]\n",
      " [ 0  0  0  0  0  0 45  0  0  0]\n",
      " [ 0  0  0  0  0  0  0 45  0  0]\n",
      " [ 0  1  0  1  0  0  0  0 41  0]\n",
      " [ 0  0  0  2  0  1  0  0  0 42]]\n"
     ]
    }
   ],
   "source": [
    "print('COMP9517 Week5 Lab - z5135560')\n",
    "print('Test Size =',t)\n",
    "print('KNN Accuracy:',\"%.3f\"%KNN_acc,end='       ')\n",
    "print('Recall:',\"%.3f\"%KNN_rc)\n",
    "print('SGD Accuracy:',\"%.3f\"%SGD_acc,end='       ')\n",
    "print('Recall:',\"%.3f\"%SGD_rc)\n",
    "print('DT Accuracy:',\"%.3f\"%DT_acc,end='        ')\n",
    "print('Recall:',\"%.3f\"%DT_rc)\n",
    "D = {'KNN':KNN_acc,'SGD':SGD_acc,'DT':DT_acc}\n",
    "P = {'KNN':KNN_predict,'SGD':SGD_predict,'DT':DT_predict}\n",
    "best = list(D.keys())[list(D.values()).index (max(D.values()))]\n",
    "pre = P[best]\n",
    "matrix = confusion_matrix(Y_test,pre)\n",
    "print(str(best)+' Confusion Matrix')\n",
    "print(matrix)"
   ]
  },
  {
   "cell_type": "code",
   "execution_count": null,
   "metadata": {},
   "outputs": [],
   "source": []
  }
 ],
 "metadata": {
  "kernelspec": {
   "display_name": "Python 3",
   "language": "python",
   "name": "python3"
  },
  "language_info": {
   "codemirror_mode": {
    "name": "ipython",
    "version": 3
   },
   "file_extension": ".py",
   "mimetype": "text/x-python",
   "name": "python",
   "nbconvert_exporter": "python",
   "pygments_lexer": "ipython3",
   "version": "3.7.4"
  }
 },
 "nbformat": 4,
 "nbformat_minor": 2
}
