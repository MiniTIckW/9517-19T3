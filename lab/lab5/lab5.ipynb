{
 "cells": [
  {
   "cell_type": "code",
   "execution_count": 74,
   "metadata": {},
   "outputs": [
    {
     "name": "stdout",
     "output_type": "stream",
     "text": [
      "Train on 2000 samples, validate on 500 samples\n",
      "Epoch 1/10\n",
      "2000/2000 [==============================] - 4s 2ms/step - loss: 1.7036 - accuracy: 0.4160 - val_loss: 0.7752 - val_accuracy: 0.7280\n",
      "Epoch 2/10\n",
      "2000/2000 [==============================] - 4s 2ms/step - loss: 0.8260 - accuracy: 0.7355 - val_loss: 0.4080 - val_accuracy: 0.8820\n",
      "Epoch 3/10\n",
      "2000/2000 [==============================] - 4s 2ms/step - loss: 0.5368 - accuracy: 0.8360 - val_loss: 0.3179 - val_accuracy: 0.8980\n",
      "Epoch 4/10\n",
      "2000/2000 [==============================] - 4s 2ms/step - loss: 0.4102 - accuracy: 0.8810 - val_loss: 0.2830 - val_accuracy: 0.9120\n",
      "Epoch 5/10\n",
      "2000/2000 [==============================] - 5s 3ms/step - loss: 0.2936 - accuracy: 0.9140 - val_loss: 0.2285 - val_accuracy: 0.9340\n",
      "Epoch 6/10\n",
      "2000/2000 [==============================] - 4s 2ms/step - loss: 0.2442 - accuracy: 0.9275 - val_loss: 0.1882 - val_accuracy: 0.9480\n",
      "Epoch 7/10\n",
      "2000/2000 [==============================] - 4s 2ms/step - loss: 0.2032 - accuracy: 0.9385 - val_loss: 0.1826 - val_accuracy: 0.9520\n",
      "Epoch 8/10\n",
      "2000/2000 [==============================] - 5s 3ms/step - loss: 0.1683 - accuracy: 0.9455 - val_loss: 0.1637 - val_accuracy: 0.9560\n",
      "Epoch 9/10\n",
      "2000/2000 [==============================] - 4s 2ms/step - loss: 0.1513 - accuracy: 0.9535 - val_loss: 0.1773 - val_accuracy: 0.9480\n",
      "Epoch 10/10\n",
      "2000/2000 [==============================] - 4s 2ms/step - loss: 0.1298 - accuracy: 0.9580 - val_loss: 0.1367 - val_accuracy: 0.9640\n"
     ]
    },
    {
     "data": {
      "image/png": "[encoded data removed]",
      "text/plain": [
       "<Figure size 432x288 with 1 Axes>"
      ]
     },
     "metadata": {
      "needs_background": "light"
     },
     "output_type": "display_data"
    },
    {
     "name": "stdout",
     "output_type": "stream",
     "text": [
      "final test accuracy [0.13666166388988496, 0.9639999866485596]\n"
     ]
    }
   ],
   "source": [
    "from __future__ import print_function\n",
    "import keras\n",
    "from keras.datasets import mnist\n",
    "from keras.models import Sequential\n",
    "from keras.layers import Dense, Dropout, Flatten\n",
    "from keras.layers import Conv2D, MaxPooling2D\n",
    "from keras import backend as K\n",
    "import matplotlib.pyplot as plt\n",
    "\n",
    "# Load data(do not change)\n",
    "data = pd.read_csv(\"src/mnist_train.csv\")\n",
    "train_data = data[:2000]\n",
    "test_data = data[2000:2500]\n",
    "\n",
    "# ----- Prepare Data ----- #\n",
    "batch_size = 128\n",
    "num_classes = 10\n",
    "epochs = 10\n",
    "# input image dimensions\n",
    "img_rows, img_cols = 28, 28\n",
    "# preparing your data including data normalization\n",
    "x_train = np.array(train_data.iloc[:,1:])\n",
    "y_train = np.array(train_data['label'])\n",
    "x_test = np.array(test_data.iloc[:,1:])\n",
    "y_test = np.array(test_data['label'])\n",
    "if K.image_data_format() == 'channels_first':\n",
    "    x_train = x_train.reshape(x_train.shape[0], 1, img_rows, img_cols)\n",
    "    x_test = x_test.reshape(x_test.shape[0], 1, img_rows, img_cols)\n",
    "    input_shape = (1, img_rows, img_cols)\n",
    "else:\n",
    "    x_train = x_train.reshape(x_train.shape[0], img_rows, img_cols, 1)\n",
    "    x_test = x_test.reshape(x_test.shape[0], img_rows, img_cols, 1)\n",
    "    input_shape = (img_rows, img_cols, 1)\n",
    "x_train = x_train.astype('float32')\n",
    "x_test = x_test.astype('float32')\n",
    "x_train /= 255\n",
    "x_test /= 255\n",
    "# ----- Build CNN Network ----- #\n",
    "# Define your model here\n",
    "y_train = keras.utils.to_categorical(y_train, num_classes)\n",
    "y_test = keras.utils.to_categorical(y_test, num_classes)\n",
    "\n",
    "model = Sequential()\n",
    "\n",
    "model.add(Conv2D(32, kernel_size=(3, 3),\n",
    "                 activation='relu',\n",
    "                 input_shape=input_shape))\n",
    "model.add(Conv2D(64, (3, 3), activation='relu'))\n",
    "model.add(MaxPooling2D(pool_size=(2, 2)))\n",
    "model.add(Dropout(0.25))\n",
    "model.add(Flatten())\n",
    "model.add(Dense(128, activation='relu'))\n",
    "model.add(Dropout(0.5))\n",
    "model.add(Dense(num_classes, activation='softmax'))\n",
    "\n",
    "# ----- Define your loss function, optimizer and metrics ----- #\n",
    "model.compile(loss=keras.losses.categorical_crossentropy,\n",
    "              optimizer=keras.optimizers.Adadelta(),\n",
    "              metrics=['accuracy'])\n",
    "\n",
    "# ----- Complete PlotLearningCurve function ----- #\n",
    "def PlotLearningCurve(epoch, trainingloss, testingloss):\n",
    "    plt.plot(epoch, trainingloss, 'r--')\n",
    "    plt.plot(epoch, testingloss, 'b-')\n",
    "    plt.legend(['Training Loss', 'Test Loss'])\n",
    "    plt.xlabel('Epoch')\n",
    "    plt.ylabel('Loss')\n",
    "    plt.show();\n",
    "\n",
    "# fit your model by using training data and get predict label\n",
    "history = model.fit(x_train, y_train,\n",
    "          batch_size=batch_size,\n",
    "          epochs=epochs,\n",
    "          verbose=1,\n",
    "          validation_data=(x_test, y_test))\n",
    "\n",
    "# plot learning curve\n",
    "trainingloss = history.history['loss']\n",
    "testingloss = history.history['val_loss']\n",
    "epoch = range(1, len(trainingloss) + 1)\n",
    "PlotLearningCurve(epoch, trainingloss, testingloss)\n",
    "\n",
    "# evaluation your model by using testing data\n",
    "score = model.evaluate(x_test, y_test, verbose=0)\n",
    "print(\"final test accuracy\", score)\n"
   ]
  },
  {
   "cell_type": "code",
   "execution_count": null,
   "metadata": {},
   "outputs": [],
   "source": []
  }
 ],
 "metadata": {
  "kernelspec": {
   "display_name": "Python 3",
   "language": "python",
   "name": "python3"
  },
  "language_info": {
   "codemirror_mode": {
    "name": "ipython",
    "version": 3
   },
   "file_extension": ".py",
   "mimetype": "text/x-python",
   "name": "python",
   "nbconvert_exporter": "python",
   "pygments_lexer": "ipython3",
   "version": "3.7.4"
  }
 },
 "nbformat": 4,
 "nbformat_minor": 2
}
