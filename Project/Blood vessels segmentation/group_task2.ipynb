{
 "cells": [
  {
   "cell_type": "code",
   "execution_count": 1,
   "metadata": {},
   "outputs": [],
   "source": [
    "import pandas as pd\n",
    "import cv2\n",
    "import numpy as np\n",
    "import tensorflow as tf\n",
    "from matplotlib import pyplot as plt\n",
    "from PIL import Image\n",
    "from sklearn import metrics\n",
    "import os\n",
    "import csv\n",
    "from sklearn.cluster import MeanShift"
   ]
  },
  {
   "cell_type": "code",
   "execution_count": 2,
   "metadata": {},
   "outputs": [],
   "source": [
    "from pylab import imshow\n",
    "from pylab import plot"
   ]
  },
  {
   "cell_type": "code",
   "execution_count": 3,
   "metadata": {},
   "outputs": [
    {
     "data": {
      "text/plain": [
       "True"
      ]
     },
     "execution_count": 3,
     "metadata": {},
     "output_type": "execute_result"
    }
   ],
   "source": [
    "img = cv2.imread(\"Training/original_retinal_images/23_training.tif\")\n",
    "b,g,r = cv2.split(img)\n",
    "clahe = cv2.createCLAHE(clipLimit=2.0, tileGridSize=(8,8))\n",
    "b = clahe.apply(b)\n",
    "g = clahe.apply(g)\n",
    "r = clahe.apply(r)\n",
    "img = cv2.merge([b,g,r])\n",
    "cv2.imwrite('j.jpg',img)"
   ]
  },
  {
   "cell_type": "code",
   "execution_count": 40,
   "metadata": {},
   "outputs": [],
   "source": [
    "def extract_bv(image):\n",
    "    b,green_fundus,r = cv2.split(image)\n",
    "    clahe = cv2.createCLAHE(clipLimit=2.0, tileGridSize=(8,8))\n",
    "    contrast_enhanced_green_fundus = clahe.apply(green_fundus)\n",
    "    \n",
    "\n",
    "    # applying alternate sequential filtering (3 times closing opening)\n",
    "    r1 = cv2.morphologyEx(contrast_enhanced_green_fundus, cv2.MORPH_OPEN, cv2.getStructuringElement(cv2.MORPH_ELLIPSE,(5,5)), iterations = 1)\n",
    "    R1 = cv2.morphologyEx(r1, cv2.MORPH_CLOSE, cv2.getStructuringElement(cv2.MORPH_ELLIPSE,(5,5)), iterations = 1)\n",
    "    r2 = cv2.morphologyEx(R1, cv2.MORPH_OPEN, cv2.getStructuringElement(cv2.MORPH_ELLIPSE,(11,11)), iterations = 1)\n",
    "    R2 = cv2.morphologyEx(r2, cv2.MORPH_CLOSE, cv2.getStructuringElement(cv2.MORPH_ELLIPSE,(11,11)), iterations = 1)\n",
    "    r3 = cv2.morphologyEx(R2, cv2.MORPH_OPEN, cv2.getStructuringElement(cv2.MORPH_ELLIPSE,(23,23)), iterations = 1)\n",
    "    R3 = cv2.morphologyEx(r3, cv2.MORPH_CLOSE, cv2.getStructuringElement(cv2.MORPH_ELLIPSE,(23,23)), iterations = 1)\n",
    "    f4 = cv2.subtract(R3,contrast_enhanced_green_fundus)\n",
    "    f5 = clahe.apply(f4)\n",
    "    f5 = Erosion(f5)\n",
    "    f5 = Dilation(f5)\n",
    "    \n",
    "    _,fin = cv2.threshold(f5, 15, 255, cv2.THRESH_BINARY_INV)\n",
    "    newfin = cv2.erode(fin, cv2.getStructuringElement(cv2.MORPH_ELLIPSE,(3,3)), iterations=1)\n",
    "\n",
    "    # removing blobs of unwanted bigger chunks taking in consideration they are not straight lines like blood\n",
    "    #vessels and also in an interval of area\n",
    "    fundus_eroded = cv2.bitwise_not(newfin)\n",
    "    xmask = np.ones(image.shape[:2], dtype=\"uint8\") * 255\n",
    "    xcontours, xhierarchy = cv2.findContours(fundus_eroded.copy(),cv2.RETR_LIST,cv2.CHAIN_APPROX_SIMPLE)\n",
    "    for cnt in xcontours:\n",
    "        shape = \"unidentified\"\n",
    "        peri = cv2.arcLength(cnt, True)\n",
    "        approx = cv2.approxPolyDP(cnt, 0.04 * peri, False)   \n",
    "        if len(approx) > 4 and cv2.contourArea(cnt) <= 3000 and cv2.contourArea(cnt) >= 100:\n",
    "            shape = \"circle\"\n",
    "        else:\n",
    "            shape = \"veins\"\n",
    "        if(shape==\"circle\"):\n",
    "            cv2.drawContours(xmask, [cnt], -1, 0, -1)\n",
    "    \n",
    "    finimage = cv2.bitwise_and(fundus_eroded,fundus_eroded,mask=xmask)\n",
    "    b_v = cv2.bitwise_not(finimage)\n",
    "    # removing very small contours through area parameter noise removal\n",
    "    ret,f6 = cv2.threshold(b_v,1,255,cv2.THRESH_BINARY_INV)\n",
    "    mask = np.ones(f6.shape[:2], dtype=\"uint8\") * 255\n",
    "    contours, hierarchy = cv2.findContours(f6.copy(),cv2.RETR_LIST,cv2.CHAIN_APPROX_SIMPLE)\n",
    "    for cnt in contours:\n",
    "        if cv2.contourArea(cnt) <= 200:\n",
    "            cv2.drawContours(mask, [cnt], -1, 0, -1)\n",
    "    im = cv2.bitwise_and(f6, f6, mask=mask)\n",
    "    \n",
    "    return im\n"
   ]
  },
  {
   "cell_type": "code",
   "execution_count": 5,
   "metadata": {},
   "outputs": [],
   "source": [
    "def opening(img):\n",
    "    kernel = cv2.getStructuringElement(cv2.MORPH_ELLIPSE,(3,3))\n",
    "    opening = cv2.morphologyEx(img, cv2.MORPH_OPEN, kernel)\n",
    "    #开运算原理： 先腐蚀后膨胀，分离区域\n",
    "    #闭运算原理： 先膨胀后腐蚀，消除孔洞\n",
    "    return opening"
   ]
  },
  {
   "cell_type": "code",
   "execution_count": 6,
   "metadata": {},
   "outputs": [],
   "source": [
    "def Erosion(img):\n",
    "    kernel = np.ones((2,2),np.uint8)\n",
    "    erosion = cv2.erode(img,kernel,iterations = 1)\n",
    "    #腐蚀\n",
    "    return erosion"
   ]
  },
  {
   "cell_type": "code",
   "execution_count": 7,
   "metadata": {},
   "outputs": [],
   "source": [
    "def Erosion1(img):\n",
    "    kernel = np.ones((1,1),np.uint8)\n",
    "    erosion = cv2.erode(img,kernel,iterations = 1)\n",
    "    #腐蚀\n",
    "    return erosion"
   ]
  },
  {
   "cell_type": "code",
   "execution_count": 8,
   "metadata": {},
   "outputs": [],
   "source": [
    "def Dilation(img):\n",
    "    kernel = np.ones((1,1),np.uint8)\n",
    "    dilation = cv2.dilate(img,kernel,iterations = 1)\n",
    "    #膨胀\n",
    "    return dilation"
   ]
  },
  {
   "cell_type": "code",
   "execution_count": 9,
   "metadata": {},
   "outputs": [],
   "source": [
    "def background(img):\n",
    "    img_gray = cv2.cvtColor(img,cv2.COLOR_RGB2GRAY)\n",
    "    _,bg = cv2.threshold(img_gray, 20, 255, cv2.THRESH_BINARY)\n",
    "    return bg"
   ]
  },
  {
   "cell_type": "code",
   "execution_count": 21,
   "metadata": {},
   "outputs": [],
   "source": [
    "def score(result,order):\n",
    "    check = Image.open(\"Training/blood_vessel_segmentation_masks/\"+ order +\"_manual1.gif\")\n",
    "    ck = check.convert('L')\n",
    "    ck = np.array(ck)\n",
    "    _,bnw1 = cv2.threshold(result, 20, 1, cv2.THRESH_BINARY)\n",
    "    _,bnw2 = cv2.threshold(ck, 20, 1, cv2.THRESH_BINARY)\n",
    "    bnw1 = bnw1.flatten()\n",
    "    bnw2 = bnw2.flatten()\n",
    "    acc = metrics.precision_score(bnw1, bnw2)\n",
    "    rec = metrics.recall_score(bnw1, bnw2)\n",
    "    \n",
    "    return acc,rec"
   ]
  },
  {
   "cell_type": "code",
   "execution_count": 11,
   "metadata": {},
   "outputs": [],
   "source": [
    "def bg_score(result,order):\n",
    "    check = Image.open(\"Training/background_masks/\"+ order +\"_training_mask.gif\")\n",
    "    ck = check.convert('L')\n",
    "    ck = np.array(ck)\n",
    "    _,bnw1 = cv2.threshold(result, 20, 1, cv2.THRESH_BINARY)\n",
    "    _,bnw2 = cv2.threshold(ck, 20, 1, cv2.THRESH_BINARY)\n",
    "    bnw1 = bnw1.flatten()\n",
    "    bnw2 = bnw2.flatten()\n",
    "    acc = metrics.precision_score(bnw1, bnw2)\n",
    "    rec = metrics.recall_score(bnw1, bnw2)\n",
    "    \n",
    "    return acc,rec"
   ]
  },
  {
   "cell_type": "code",
   "execution_count": 43,
   "metadata": {},
   "outputs": [
    {
     "data": {
      "text/plain": [
       "<matplotlib.image.AxesImage at 0x1459eda90>"
      ]
     },
     "execution_count": 43,
     "metadata": {},
     "output_type": "execute_result"
    },
    {
     "data": {
      "image/png": "[encoded data removed]",
      "text/plain": [
       "<Figure size 432x288 with 1 Axes>"
      ]
     },
     "metadata": {
      "needs_background": "light"
     },
     "output_type": "display_data"
    }
   ],
   "source": [
    "order = '24'\n",
    "rst = Image.open(\"Training/blood_vessel_segmentation_masks/\"+ order +\"_manual1.gif\")\n",
    "rst = np.array(rst)\n",
    "imshow(rst)"
   ]
  },
  {
   "cell_type": "code",
   "execution_count": 44,
   "metadata": {},
   "outputs": [
    {
     "data": {
      "text/plain": [
       "<matplotlib.image.AxesImage at 0x145f19a50>"
      ]
     },
     "execution_count": 44,
     "metadata": {},
     "output_type": "execute_result"
    },
    {
     "data": {
      "image/png": "[encoded data removed]",
      "text/plain": [
       "<Figure size 432x288 with 1 Axes>"
      ]
     },
     "metadata": {
      "needs_background": "light"
     },
     "output_type": "display_data"
    }
   ],
   "source": [
    "img = cv2.imread(\"Training/original_retinal_images/\" + order + \"_training.tif\")\n",
    "bv_img = extract_bv(img)\n",
    "\n",
    "imshow(bv_img)\n",
    "#cv2.imwrite('f.jpg',bv_img)"
   ]
  },
  {
   "cell_type": "code",
   "execution_count": 25,
   "metadata": {},
   "outputs": [
    {
     "name": "stdout",
     "output_type": "stream",
     "text": [
      "pre: 0.7003719851205952 recall: 0.5367543375636074\n"
     ]
    }
   ],
   "source": [
    "pre,rc = score(bv_img,order)\n",
    "print(\"pre: \"+str(pre)+\" recall: \"+str(rc))"
   ]
  },
  {
   "cell_type": "code",
   "execution_count": 15,
   "metadata": {},
   "outputs": [
    {
     "data": {
      "text/plain": [
       "<matplotlib.image.AxesImage at 0x142e5abd0>"
      ]
     },
     "execution_count": 15,
     "metadata": {},
     "output_type": "execute_result"
    },
    {
     "data": {
      "image/png": "[encoded data removed]",
      "text/plain": [
       "<Figure size 432x288 with 1 Axes>"
      ]
     },
     "metadata": {
      "needs_background": "light"
     },
     "output_type": "display_data"
    }
   ],
   "source": [
    "bg = background(img)\n",
    "imshow(bg)"
   ]
  },
  {
   "cell_type": "code",
   "execution_count": 18,
   "metadata": {},
   "outputs": [
    {
     "name": "stdout",
     "output_type": "stream",
     "text": [
      "pre: 0.9906492729655791 recall: 1.0\n"
     ]
    }
   ],
   "source": [
    "pre,rc = bg_score(bg,order)\n",
    "print(\"pre: \"+str(pre)+\" recall: \"+str(rc))"
   ]
  },
  {
   "cell_type": "code",
   "execution_count": 13,
   "metadata": {},
   "outputs": [
    {
     "data": {
      "text/plain": [
       "True"
      ]
     },
     "execution_count": 13,
     "metadata": {},
     "output_type": "execute_result"
    }
   ],
   "source": [
    "mask = Image.open(\"Training/blood_vessel_segmentation_masks/\"+ order +\"_manual1.gif\")\n",
    "mask = mask.convert('L')\n",
    "mask = np.array(mask)\n",
    "d = np.hstack((bv_img,mask)) \n",
    "cv2.imwrite('rst21.jpg',d)"
   ]
  },
  {
   "cell_type": "code",
   "execution_count": 39,
   "metadata": {},
   "outputs": [
    {
     "data": {
      "text/plain": [
       "True"
      ]
     },
     "execution_count": 39,
     "metadata": {},
     "output_type": "execute_result"
    }
   ],
   "source": [
    "mask = Image.open(\"Training/background_masks/\"+ order +\"_training_mask.gif\")\n",
    "mask = mask.convert('L')\n",
    "mask = np.array(mask)\n",
    "d = np.hstack((bg,mask)) \n",
    "cv2.imwrite('rst21.jpg',d)"
   ]
  },
  {
   "cell_type": "code",
   "execution_count": 26,
   "metadata": {},
   "outputs": [
    {
     "name": "stdout",
     "output_type": "stream",
     "text": [
      "0.7251196366290859\n",
      "0.6471535442316079\n",
      "0.711688072549832\n",
      "0.6907060085275576\n",
      "0.4804067068742303\n",
      "0.6683349653646683\n",
      "0.68348639631273\n",
      "0.6512349509743081\n",
      "0.6639760729343087\n",
      "0.4456420955030134\n",
      "0.7464569303447582\n",
      "0.7089386302994367\n",
      "0.7092482949861351\n",
      "0.6564561588255335\n",
      "0.662833776038026\n",
      "0.6336807490803701\n",
      "0.6403384071287404\n",
      "0.693085648066861\n",
      "0.6760618033018202\n",
      "0.7003719851205952\n",
      "average precision: 0.6597610416546809  average recall: 0.5518839478256876\n"
     ]
    }
   ],
   "source": [
    "sp = 0\n",
    "sr = 0\n",
    "for order in range(21,41):\n",
    "    zero = ''\n",
    "    if order < 10:\n",
    "        zero = '0'\n",
    "    order = zero + str(order)\n",
    "    img = cv2.imread(\"Training/original_retinal_images/\" + order + \"_training.tif\")\n",
    "    bv_img = extract_bv(img)\n",
    "    pre,rc = score(bv_img,order)\n",
    "    print(pre)\n",
    "    sp += pre\n",
    "    sr += rc\n",
    "print('average precision: '+ str(sp/20) + '  average recall: ' + str(sr/20))"
   ]
  },
  {
   "cell_type": "code",
   "execution_count": 107,
   "metadata": {},
   "outputs": [
    {
     "data": {
      "text/plain": [
       "0.6010201526870139"
      ]
     },
     "execution_count": 107,
     "metadata": {},
     "output_type": "execute_result"
    }
   ],
   "source": [
    "a=(sp/20)\n",
    "b=(sr/20)\n",
    "(a*b*2)/(a+b)"
   ]
  },
  {
   "cell_type": "code",
   "execution_count": 196,
   "metadata": {},
   "outputs": [
    {
     "data": {
      "text/plain": [
       "True"
      ]
     },
     "execution_count": 196,
     "metadata": {},
     "output_type": "execute_result"
    }
   ],
   "source": [
    "    image = cv2.imread(\"Training/original_retinal_images/24_training.tif\")\n",
    "    b,green_fundus,r = cv2.split(image)\n",
    "    clahe = cv2.createCLAHE(clipLimit=2.0, tileGridSize=(8,8))\n",
    "    contrast_enhanced_green_fundus = clahe.apply(green_fundus)\n",
    "    r1 = cv2.morphologyEx(contrast_enhanced_green_fundus, cv2.MORPH_OPEN, cv2.getStructuringElement(cv2.MORPH_ELLIPSE,(5,5)), iterations = 1)\n",
    "    R1 = cv2.morphologyEx(r1, cv2.MORPH_CLOSE, cv2.getStructuringElement(cv2.MORPH_ELLIPSE,(5,5)), iterations = 1)\n",
    "    r2 = cv2.morphologyEx(R1, cv2.MORPH_OPEN, cv2.getStructuringElement(cv2.MORPH_ELLIPSE,(11,11)), iterations = 1)\n",
    "    R2 = cv2.morphologyEx(r2, cv2.MORPH_CLOSE, cv2.getStructuringElement(cv2.MORPH_ELLIPSE,(11,11)), iterations = 1)\n",
    "    r3 = cv2.morphologyEx(R2, cv2.MORPH_OPEN, cv2.getStructuringElement(cv2.MORPH_ELLIPSE,(23,23)), iterations = 1)\n",
    "    R3 = cv2.morphologyEx(r3, cv2.MORPH_CLOSE, cv2.getStructuringElement(cv2.MORPH_ELLIPSE,(23,23)), iterations = 1)\n",
    "    f4 = cv2.subtract(R3,contrast_enhanced_green_fundus)\n",
    "    f5 = clahe.apply(f4)\n",
    "    f5 = Erosion(f5)\n",
    "    f5 = Dilation(f5)\n",
    "\n",
    "    ret,fin = cv2.threshold(f5,15,255,cv2.THRESH_BINARY_INV)\n",
    "    newfin = cv2.erode(fin, cv2.getStructuringElement(cv2.MORPH_ELLIPSE,(3,3)), iterations=1)\n",
    "    \n",
    "    fundus_eroded = cv2.bitwise_not(newfin)\n",
    "    xmask = np.ones(image.shape[:2], dtype=\"uint8\") * 255\n",
    "    xcontours, xhierarchy = cv2.findContours(fundus_eroded.copy(),cv2.RETR_LIST,cv2.CHAIN_APPROX_SIMPLE)\n",
    "    for cnt in xcontours:\n",
    "        shape = \"unidentified\"\n",
    "        peri = cv2.arcLength(cnt, True)\n",
    "        approx = cv2.approxPolyDP(cnt, 0.04 * peri, False)   \n",
    "        if len(approx) > 4 and cv2.contourArea(cnt) <= 3000 and cv2.contourArea(cnt) >= 100:\n",
    "            shape = \"circle\"\n",
    "        else:\n",
    "            shape = \"veins\"\n",
    "        if(shape==\"circle\"):\n",
    "            cv2.drawContours(xmask, [cnt], -1, 0, -1)\n",
    "    \n",
    "    finimage = cv2.bitwise_and(fundus_eroded,fundus_eroded,mask=xmask)\n",
    "    blood_vessels = cv2.bitwise_not(finimage)\n",
    "    \n",
    "    cv2.imwrite('r.jpg',blood_vessels)"
   ]
  },
  {
   "cell_type": "code",
   "execution_count": null,
   "metadata": {},
   "outputs": [],
   "source": []
  }
 ],
 "metadata": {
  "kernelspec": {
   "display_name": "Python 3",
   "language": "python",
   "name": "python3"
  },
  "language_info": {
   "codemirror_mode": {
    "name": "ipython",
    "version": 3
   },
   "file_extension": ".py",
   "mimetype": "text/x-python",
   "name": "python",
   "nbconvert_exporter": "python",
   "pygments_lexer": "ipython3",
   "version": "3.7.4"
  }
 },
 "nbformat": 4,
 "nbformat_minor": 2
}
