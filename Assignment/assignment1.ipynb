{
 "cells": [
  {
   "cell_type": "code",
   "execution_count": 1,
   "metadata": {},
   "outputs": [],
   "source": [
    "import cv2\n",
    "import numpy as np\n",
    "from matplotlib import pyplot as plt"
   ]
  },
  {
   "cell_type": "code",
   "execution_count": 2,
   "metadata": {},
   "outputs": [],
   "source": [
    "img = cv2.imread('light_rail.jpg')\n",
    "h = img.shape[0]\n",
    "w = img.shape[1]\n",
    "#create a new image with 1 channel\n",
    "b,g,r = cv2.split(img)\n",
    "I = r*1"
   ]
  },
  {
   "cell_type": "code",
   "execution_count": 3,
   "metadata": {},
   "outputs": [
    {
     "data": {
      "text/plain": [
       "True"
      ]
     },
     "execution_count": 3,
     "metadata": {},
     "output_type": "execute_result"
    }
   ],
   "source": [
    "#task1\n",
    "for i in range(h):\n",
    "    for j in range(w):\n",
    "        I[i,j] = 0.114*img[i,j,0] + 0.587*img[i,j,1] + 0.299*img[i,j,2]\n",
    "\n",
    "cv2.imwrite('I.jpg',I)"
   ]
  },
  {
   "cell_type": "code",
   "execution_count": 4,
   "metadata": {},
   "outputs": [],
   "source": [
    "def task2(i,j,n):\n",
    "    K = A1[i-n:i+n+1,j-n:j+n+1]    #area of neighbourhoods\n",
    "    hist_np,bins = np.histogram(K.ravel(),256,[0,256])\n",
    "    return int(bins[np.argmax(hist_np)])"
   ]
  },
  {
   "cell_type": "code",
   "execution_count": 5,
   "metadata": {},
   "outputs": [
    {
     "data": {
      "text/plain": [
       "True"
      ]
     },
     "execution_count": 5,
     "metadata": {},
     "output_type": "execute_result"
    }
   ],
   "source": [
    "#task 2\n",
    "N = 20\n",
    "J = I*1\n",
    "A1 = np.pad(I, ((N,N)), 'constant')\n",
    "for i in range(h):\n",
    "    for j in range(w):\n",
    "        J[i,j] = task2(i,j,N)\n",
    "        \n",
    "jnm = 'J'+str(N)+'.jpg'\n",
    "cv2.imwrite(jnm,J)"
   ]
  },
  {
   "cell_type": "code",
   "execution_count": 6,
   "metadata": {},
   "outputs": [],
   "source": [
    "def task3(i,j,N):\n",
    "    v = J[i,j]  #value of the current pixel   \n",
    "    s = [0]*3\n",
    "    n = [0]*3\n",
    "    l = [0]*3\n",
    "    for p in range(i-N,i+N+1):\n",
    "        for q in range(j-N,j+N+1):\n",
    "            if A2[p,q] == v:\n",
    "                for k in range(3):\n",
    "                    s[k] += A3[p,q,k]\n",
    "                    n[k] += 1\n",
    "    for k in range(3):\n",
    "        if n[k] == 0:\n",
    "            l[k] = 0\n",
    "        else:\n",
    "            l[k] = int(s[k]/n[k])        \n",
    "    return l"
   ]
  },
  {
   "cell_type": "code",
   "execution_count": 7,
   "metadata": {},
   "outputs": [
    {
     "data": {
      "text/plain": [
       "True"
      ]
     },
     "execution_count": 7,
     "metadata": {},
     "output_type": "execute_result"
    }
   ],
   "source": [
    "#task3\n",
    "B = img*1\n",
    "A2 = np.pad(J, ((N,N)), 'constant')\n",
    "r1 = np.pad(r, ((N,N)), 'constant')\n",
    "g1 = np.pad(g, ((N,N)), 'constant')\n",
    "b1 = np.pad(b, ((N,N)), 'constant')\n",
    "A3 = cv2.merge([b1,g1,r1])\n",
    "for i in range(h):\n",
    "    for j in range(w):\n",
    "        B[i,j] = task3(i,j,N)   #k=0:b; k=1:g; k=2:r\n",
    "            \n",
    "bnm = 'B'+str(N)+'.jpg'\n",
    "cv2.imwrite(bnm,B)"
   ]
  },
  {
   "cell_type": "code",
   "execution_count": null,
   "metadata": {},
   "outputs": [],
   "source": []
  }
 ],
 "metadata": {
  "kernelspec": {
   "display_name": "Python 3",
   "language": "python",
   "name": "python3"
  },
  "language_info": {
   "codemirror_mode": {
    "name": "ipython",
    "version": 3
   },
   "file_extension": ".py",
   "mimetype": "text/x-python",
   "name": "python",
   "nbconvert_exporter": "python",
   "pygments_lexer": "ipython3",
   "version": "3.7.4"
  }
 },
 "nbformat": 4,
 "nbformat_minor": 2
}
